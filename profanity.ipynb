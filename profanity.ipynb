{
  "nbformat": 4,
  "nbformat_minor": 0,
  "metadata": {
    "accelerator": "TPU",
    "colab": {
      "name": "profanity.ipynb",
      "provenance": [],
      "collapsed_sections": [],
      "include_colab_link": true
    },
    "kernelspec": {
      "display_name": "Python 3",
      "name": "python3"
    },
    "language_info": {
      "name": "python"
    }
  },
  "cells": [
    {
      "cell_type": "markdown",
      "metadata": {
        "id": "view-in-github",
        "colab_type": "text"
      },
      "source": [
        "<a href=\"https://colab.research.google.com/github/geeks121/profanity-google-colab/blob/master/profanity.ipynb\" target=\"_parent\"><img src=\"https://colab.research.google.com/assets/colab-badge.svg\" alt=\"Open In Colab\"/></a>"
      ]
    },
    {
      "cell_type": "markdown",
      "metadata": {
        "id": "cwBNDwAnMEZX"
      },
      "source": [
        "Before you run this Script, please set your runtime to GPU instead of TPU, otherwise the script won't run or you will facing with error. \n",
        "\n",
        "1. Click Connecting\n",
        "2. Clik change the runtime \n",
        "3. Scroll Down and you will find The GPU Selection.\n",
        "\n",
        "Done enjoy. \n",
        "\n",
        "\n",
        "Donate : 0xbeef1858cbddb48319893b028be9d914d45f51d9"
      ]
    },
    {
      "cell_type": "markdown",
      "metadata": {
        "id": "VwrcRHZOSq7X"
      },
      "source": [
        "\n",
        "\n",
        "```\n",
        "### Usage\n",
        "usage: ./profanity.x64 [OPTIONS]\n",
        "\n",
        "  Basic modes:\n",
        "    --benchmark             Run without any scoring, a benchmark.\n",
        "    --zeros                 Score on zeros anywhere in hash.\n",
        "    --letters               Score on letters anywhere in hash.\n",
        "    --numbers               Score on numbers anywhere in hash.\n",
        "    --mirror                Score on mirroring from center.\n",
        "    --leading-doubles       Score on hashes leading with hexadecimal pairs\n",
        "\n",
        "  Modes with arguments:\n",
        "    --leading <single hex>  Score on hashes leading with given hex character.\n",
        "    --matching <hex string> Score on hashes matching given hex string.\n",
        "\n",
        "  Advanced modes:\n",
        "    --contract              Instead of account address, score the contract\n",
        "                            address created by the account's zeroth transaction.\n",
        "    --leading-range         Scores on hashes leading with characters within\n",
        "                            given range.\n",
        "    --range                 Scores on hashes having characters within given\n",
        "                            range anywhere.\n",
        "\n",
        "  Range:\n",
        "    -m, --min <0-15>        Set range minimum (inclusive), 0 is '0' 15 is 'f'.\n",
        "    -M, --max <0-15>        Set range maximum (inclusive), 0 is '0' 15 is 'f'.\n",
        "\n",
        "  Device control:\n",
        "    -s, --skip <index>      Skip device given by index.\n",
        "    -n, --no-cache          Don't load cached pre-compiled version of kernel.\n",
        "\n",
        "  Tweaking:\n",
        "    -w, --work <size>       Set OpenCL local work size. [default = 64]\n",
        "    -W, --work-max <size>   Set OpenCL maximum work size. [default = -i * -I]\n",
        "    -i, --inverse-size      Set size of modular inverses to calculate in one\n",
        "                            work item. [default = 255]\n",
        "    -I, --inverse-multiple  Set how many above work items will run in\n",
        "                            parallell. [default = 16384]\n",
        "\n",
        "  Examples:\n",
        "    ./profanity.x64 --leading f\n",
        "    ./profanity.x64 --matching dead\n",
        "    ./profanity.x64 --matching badXXXXXXXXXXXXXXXXXXXXXXXXXXXXXXXXXXbad\n",
        "    ./profanity.x64 --leading-range -m 0 -M 1\n",
        "    ./profanity.x64 --leading-range -m 10 -M 12\n",
        "    ./profanity.x64 --range -m 0 -M 1\n",
        "    ./profanity.x64 --contract --leading 0\n",
        "\n",
        "  About:\n",
        "    profanity.x64 is a vanity address generator for Ethereum that utilizes\n",
        "    computing power from GPUs using OpenCL.\n",
        "\n",
        "    Donation : BSC, POLYGON, AND ETH\n",
        "    Address : 0xbeef1858cbddb48319893b028be9d914d45f51d9\n",
        "```\n",
        "\n",
        "\n"
      ]
    },
    {
      "cell_type": "code",
      "metadata": {
        "colab": {
          "base_uri": "https://localhost:8080/"
        },
        "id": "2OKvDvkse0RU",
        "outputId": "12a334d8-c075-4c76-8913-67e41433d614"
      },
      "source": [
        "!wget https://github.com/johguse/profanity/archive/refs/tags/1.60.tar.gz\n",
        "!tar -zxf 1.60.tar.gz --directory /content && mv profanity-1.60/* /content/ && rm -rf profanity-1.60 img 1.60.tar.gz"
      ],
      "execution_count": null,
      "outputs": [
        {
          "output_type": "stream",
          "text": [
            "--2021-08-05 23:38:36--  https://github.com/johguse/profanity/archive/refs/tags/1.60.tar.gz\n",
            "Resolving github.com (github.com)... 140.82.113.3\n",
            "Connecting to github.com (github.com)|140.82.113.3|:443... connected.\n",
            "HTTP request sent, awaiting response... 302 Found\n",
            "Location: https://codeload.github.com/johguse/profanity/tar.gz/refs/tags/1.60 [following]\n",
            "--2021-08-05 23:38:36--  https://codeload.github.com/johguse/profanity/tar.gz/refs/tags/1.60\n",
            "Resolving codeload.github.com (codeload.github.com)... 140.82.112.9\n",
            "Connecting to codeload.github.com (codeload.github.com)|140.82.112.9|:443... connected.\n",
            "HTTP request sent, awaiting response... 200 OK\n",
            "Length: unspecified [application/x-gzip]\n",
            "Saving to: ‘1.60.tar.gz’\n",
            "\n",
            "1.60.tar.gz             [  <=>               ] 826.82K  2.21MB/s    in 0.4s    \n",
            "\n",
            "2021-08-05 23:38:37 (2.21 MB/s) - ‘1.60.tar.gz’ saved [846662]\n",
            "\n"
          ],
          "name": "stdout"
        }
      ]
    },
    {
      "cell_type": "code",
      "metadata": {
        "id": "flCE7SwfCAzR",
        "colab": {
          "base_uri": "https://localhost:8080/"
        },
        "outputId": "9a48bccd-ed24-4112-bbc2-22921d8b0dc1"
      },
      "source": [
        "%%shell\n",
        "make"
      ],
      "execution_count": null,
      "outputs": [
        {
          "output_type": "stream",
          "text": [
            "g++ -c -std=c++11 -Wall -mmmx -O2 -mcmodel=large   Dispatcher.cpp -o Dispatcher.o\n",
            "\u001b[01m\u001b[KDispatcher.cpp:\u001b[m\u001b[K In static member function ‘\u001b[01m\u001b[Kstatic _cl_command_queue* Dispatcher::Device::createQueue(_cl_context*&, _cl_device_id*&)\u001b[m\u001b[K’:\n",
            "\u001b[01m\u001b[KDispatcher.cpp:84:34:\u001b[m\u001b[K \u001b[01;35m\u001b[Kwarning: \u001b[m\u001b[Kconverting to non-pointer type ‘\u001b[01m\u001b[Kcl_command_queue_properties {aka long unsigned int}\u001b[m\u001b[K’ from NULL [\u001b[01;35m\u001b[K-Wconversion-null\u001b[m\u001b[K]\n",
            "  cl_command_queue_properties p = \u001b[01;35m\u001b[KNULL\u001b[m\u001b[K;\n",
            "                                  \u001b[01;35m\u001b[K^~~~\u001b[m\u001b[K\n",
            "\u001b[01m\u001b[KDispatcher.cpp:\u001b[m\u001b[K In static member function ‘\u001b[01m\u001b[Kstatic cl_ulong4 Dispatcher::Device::createSeed()\u001b[m\u001b[K’:\n",
            "\u001b[01m\u001b[KDispatcher.cpp:112:40:\u001b[m\u001b[K \u001b[01;35m\u001b[Kwarning: \u001b[m\u001b[Kignoring attributes on template argument ‘\u001b[01m\u001b[Kcl_ulong {aka long unsigned int}\u001b[m\u001b[K’ [\u001b[01;35m\u001b[K-Wignored-attributes\u001b[m\u001b[K]\n",
            "  std::uniform_int_distribution<cl_ulong\u001b[01;35m\u001b[K>\u001b[m\u001b[K distr;\n",
            "                                        \u001b[01;35m\u001b[K^\u001b[m\u001b[K\n",
            "\u001b[01m\u001b[KDispatcher.cpp:\u001b[m\u001b[K In member function ‘\u001b[01m\u001b[Kvoid Dispatcher::addDevice(cl_device_id, size_t, size_t)\u001b[m\u001b[K’:\n",
            "\u001b[01m\u001b[KDispatcher.cpp:165:113:\u001b[m\u001b[K \u001b[01;35m\u001b[Kwarning: \u001b[m\u001b[K‘\u001b[01m\u001b[Knew\u001b[m\u001b[K’ of type ‘\u001b[01m\u001b[KDispatcher::Device\u001b[m\u001b[K’ with extended alignment 32 [\u001b[01;35m\u001b[K-Waligned-new=\u001b[m\u001b[K]\n",
            "  Device * pDevice = new Device(*this, m_clContext, m_clProgram, clDeviceId, worksizeLocal, m_size, index, m_mode\u001b[01;35m\u001b[K)\u001b[m\u001b[K;\n",
            "                                                                                                                 \u001b[01;35m\u001b[K^\u001b[m\u001b[K\n",
            "\u001b[01m\u001b[KDispatcher.cpp:165:113:\u001b[m\u001b[K \u001b[01;36m\u001b[Knote: \u001b[m\u001b[Kuses ‘\u001b[01m\u001b[Kvoid* operator new(std::size_t)\u001b[m\u001b[K’, which does not have an alignment parameter\n",
            "\u001b[01m\u001b[KDispatcher.cpp:165:113:\u001b[m\u001b[K \u001b[01;36m\u001b[Knote: \u001b[m\u001b[Kuse ‘\u001b[01m\u001b[K-faligned-new\u001b[m\u001b[K’ to enable C++17 over-aligned new support\n",
            "\u001b[01m\u001b[KDispatcher.cpp:\u001b[m\u001b[K In function ‘\u001b[01m\u001b[Kvoid printResult(cl_ulong4, cl_ulong, result, cl_uchar, const std::chrono::time_point<std::chrono::_V2::steady_clock, std::chrono::duration<long int, std::ratio<1, 1000000000> > >&, const Mode&)\u001b[m\u001b[K’:\n",
            "\u001b[01m\u001b[KDispatcher.cpp:29:13:\u001b[m\u001b[K \u001b[01;36m\u001b[Knote: \u001b[m\u001b[KThe ABI for passing parameters with 32-byte alignment has changed in GCC 4.6\n",
            " static void \u001b[01;36m\u001b[KprintResult\u001b[m\u001b[K(cl_ulong4 seed, cl_ulong round, result r, cl_uchar score, const std::chrono::time_point<std::chrono::steady_clock> & timeStart, const Mode & mode) {\n",
            "             \u001b[01;36m\u001b[K^~~~~~~~~~~\u001b[m\u001b[K\n",
            "g++ -c -std=c++11 -Wall -mmmx -O2 -mcmodel=large   Mode.cpp -o Mode.o\n",
            "g++ -c -std=c++11 -Wall -mmmx -O2 -mcmodel=large   precomp.cpp -o precomp.o\n",
            "g++ -c -std=c++11 -Wall -mmmx -O2 -mcmodel=large   profanity.cpp -o profanity.o\n",
            "g++ -c -std=c++11 -Wall -mmmx -O2 -mcmodel=large   SpeedSample.cpp -o SpeedSample.o\n",
            "g++ Dispatcher.o Mode.o precomp.o profanity.o SpeedSample.o -s -lOpenCL -mcmodel=large -o profanity.x64\n"
          ],
          "name": "stdout"
        },
        {
          "output_type": "execute_result",
          "data": {
            "text/plain": [
              ""
            ]
          },
          "metadata": {
            "tags": []
          },
          "execution_count": 3
        }
      ]
    },
    {
      "cell_type": "code",
      "metadata": {
        "id": "N-VhabFp-t1W",
        "colab": {
          "base_uri": "https://localhost:8080/",
          "height": 887
        },
        "outputId": "0af15bda-6fed-4112-f141-30bd62fa59bb"
      },
      "source": [
        "%%shell\n",
        "./profanity.x64 --matching 666XXXXXXXXXXXXXXXXXXXXXXXXXXXXXXXXXX666"
      ],
      "execution_count": null,
      "outputs": [
        {
          "output_type": "stream",
          "text": [
            "Mode: matching\n",
            "Target: Address\n",
            "Devices:\n",
            "  GPU0: Tesla T4, 15843721216 bytes available, 40 compute units (precompiled = yes)\n",
            "\n",
            "Initializing OpenCL...\n",
            "  Creating context...OK\n",
            "  Loading kernel from binary...OK\n",
            "  Building program...OK\n",
            "\n",
            "Initializing devices...\n",
            "  This should take less than a minute. The number of objects initialized on each\n",
            "  device is equal to inverse-size * inverse-multiple. To lower\n",
            "  initialization time (and memory footprint) I suggest lowering the\n",
            "  inverse-multiple first. You can do this via the -I switch. Do note that\n",
            "  this might negatively impact your performance.\n",
            "\n",
            "  GPU0 initialized\n",
            "\n",
            "Initialization time: 4 seconds\n",
            "Running...\n",
            "  Always verify that a private key generated by this program corresponds to the\n",
            "  public key printed by importing it to a wallet of your choice. This program\n",
            "  like any software might contain bugs and it does by design cut corners to\n",
            "  improve overall performance.\n",
            "\n",
            "  Time:     4s Score:  4 Private: 0xc323363906ccfc2e1151ea321e593c367955cd9e7c06a96f72b5af312fa22fbc Address: 0x6668ff315efdc1e9c7b79239a3890e1399159666\n"
          ],
          "name": "stdout"
        },
        {
          "output_type": "error",
          "ename": "CalledProcessError",
          "evalue": "ignored",
          "traceback": [
            "\u001b[0;31m---------------------------------------------------------------------------\u001b[0m",
            "\u001b[0;31mCalledProcessError\u001b[0m                        Traceback (most recent call last)",
            "\u001b[0;32m<ipython-input-16-1c3cb16d41ca>\u001b[0m in \u001b[0;36m<module>\u001b[0;34m()\u001b[0m\n\u001b[0;32m----> 1\u001b[0;31m \u001b[0mget_ipython\u001b[0m\u001b[0;34m(\u001b[0m\u001b[0;34m)\u001b[0m\u001b[0;34m.\u001b[0m\u001b[0mrun_cell_magic\u001b[0m\u001b[0;34m(\u001b[0m\u001b[0;34m'shell'\u001b[0m\u001b[0;34m,\u001b[0m \u001b[0;34m''\u001b[0m\u001b[0;34m,\u001b[0m \u001b[0;34m'./profanity.x64 --matching 666XXXXXXXXXXXXXXXXXXXXXXXXXXXXXXXXXX666'\u001b[0m\u001b[0;34m)\u001b[0m\u001b[0;34m\u001b[0m\u001b[0;34m\u001b[0m\u001b[0m\n\u001b[0m",
            "\u001b[0;32m/usr/local/lib/python3.7/dist-packages/IPython/core/interactiveshell.py\u001b[0m in \u001b[0;36mrun_cell_magic\u001b[0;34m(self, magic_name, line, cell)\u001b[0m\n\u001b[1;32m   2115\u001b[0m             \u001b[0mmagic_arg_s\u001b[0m \u001b[0;34m=\u001b[0m \u001b[0mself\u001b[0m\u001b[0;34m.\u001b[0m\u001b[0mvar_expand\u001b[0m\u001b[0;34m(\u001b[0m\u001b[0mline\u001b[0m\u001b[0;34m,\u001b[0m \u001b[0mstack_depth\u001b[0m\u001b[0;34m)\u001b[0m\u001b[0;34m\u001b[0m\u001b[0;34m\u001b[0m\u001b[0m\n\u001b[1;32m   2116\u001b[0m             \u001b[0;32mwith\u001b[0m \u001b[0mself\u001b[0m\u001b[0;34m.\u001b[0m\u001b[0mbuiltin_trap\u001b[0m\u001b[0;34m:\u001b[0m\u001b[0;34m\u001b[0m\u001b[0;34m\u001b[0m\u001b[0m\n\u001b[0;32m-> 2117\u001b[0;31m                 \u001b[0mresult\u001b[0m \u001b[0;34m=\u001b[0m \u001b[0mfn\u001b[0m\u001b[0;34m(\u001b[0m\u001b[0mmagic_arg_s\u001b[0m\u001b[0;34m,\u001b[0m \u001b[0mcell\u001b[0m\u001b[0;34m)\u001b[0m\u001b[0;34m\u001b[0m\u001b[0;34m\u001b[0m\u001b[0m\n\u001b[0m\u001b[1;32m   2118\u001b[0m             \u001b[0;32mreturn\u001b[0m \u001b[0mresult\u001b[0m\u001b[0;34m\u001b[0m\u001b[0;34m\u001b[0m\u001b[0m\n\u001b[1;32m   2119\u001b[0m \u001b[0;34m\u001b[0m\u001b[0m\n",
            "\u001b[0;32m/usr/local/lib/python3.7/dist-packages/google/colab/_system_commands.py\u001b[0m in \u001b[0;36m_shell_cell_magic\u001b[0;34m(args, cmd)\u001b[0m\n\u001b[1;32m    111\u001b[0m   \u001b[0mresult\u001b[0m \u001b[0;34m=\u001b[0m \u001b[0m_run_command\u001b[0m\u001b[0;34m(\u001b[0m\u001b[0mcmd\u001b[0m\u001b[0;34m,\u001b[0m \u001b[0mclear_streamed_output\u001b[0m\u001b[0;34m=\u001b[0m\u001b[0;32mFalse\u001b[0m\u001b[0;34m)\u001b[0m\u001b[0;34m\u001b[0m\u001b[0;34m\u001b[0m\u001b[0m\n\u001b[1;32m    112\u001b[0m   \u001b[0;32mif\u001b[0m \u001b[0;32mnot\u001b[0m \u001b[0mparsed_args\u001b[0m\u001b[0;34m.\u001b[0m\u001b[0mignore_errors\u001b[0m\u001b[0;34m:\u001b[0m\u001b[0;34m\u001b[0m\u001b[0;34m\u001b[0m\u001b[0m\n\u001b[0;32m--> 113\u001b[0;31m     \u001b[0mresult\u001b[0m\u001b[0;34m.\u001b[0m\u001b[0mcheck_returncode\u001b[0m\u001b[0;34m(\u001b[0m\u001b[0;34m)\u001b[0m\u001b[0;34m\u001b[0m\u001b[0;34m\u001b[0m\u001b[0m\n\u001b[0m\u001b[1;32m    114\u001b[0m   \u001b[0;32mreturn\u001b[0m \u001b[0mresult\u001b[0m\u001b[0;34m\u001b[0m\u001b[0;34m\u001b[0m\u001b[0m\n\u001b[1;32m    115\u001b[0m \u001b[0;34m\u001b[0m\u001b[0m\n",
            "\u001b[0;32m/usr/local/lib/python3.7/dist-packages/google/colab/_system_commands.py\u001b[0m in \u001b[0;36mcheck_returncode\u001b[0;34m(self)\u001b[0m\n\u001b[1;32m    137\u001b[0m     \u001b[0;32mif\u001b[0m \u001b[0mself\u001b[0m\u001b[0;34m.\u001b[0m\u001b[0mreturncode\u001b[0m\u001b[0;34m:\u001b[0m\u001b[0;34m\u001b[0m\u001b[0;34m\u001b[0m\u001b[0m\n\u001b[1;32m    138\u001b[0m       raise subprocess.CalledProcessError(\n\u001b[0;32m--> 139\u001b[0;31m           returncode=self.returncode, cmd=self.args, output=self.output)\n\u001b[0m\u001b[1;32m    140\u001b[0m \u001b[0;34m\u001b[0m\u001b[0m\n\u001b[1;32m    141\u001b[0m   \u001b[0;32mdef\u001b[0m \u001b[0m_repr_pretty_\u001b[0m\u001b[0;34m(\u001b[0m\u001b[0mself\u001b[0m\u001b[0;34m,\u001b[0m \u001b[0mp\u001b[0m\u001b[0;34m,\u001b[0m \u001b[0mcycle\u001b[0m\u001b[0;34m)\u001b[0m\u001b[0;34m:\u001b[0m  \u001b[0;31m# pylint:disable=unused-argument\u001b[0m\u001b[0;34m\u001b[0m\u001b[0;34m\u001b[0m\u001b[0m\n",
            "\u001b[0;31mCalledProcessError\u001b[0m: Command './profanity.x64 --matching 666XXXXXXXXXXXXXXXXXXXXXXXXXXXXXXXXXX666' died with <Signals.SIGINT: 2>."
          ]
        }
      ]
    }
  ]
}